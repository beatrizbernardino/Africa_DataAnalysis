{
 "cells": [
  {
   "cell_type": "markdown",
   "metadata": {},
   "source": [
    "# Projeto 1 - Ciência dos Dados"
   ]
  },
  {
   "cell_type": "markdown",
   "metadata": {},
   "source": [
    "**introdução**: O presente trabalho tem como tema a União Africana, organização inspirada na União Europeia, e tem como  objetivo"
   ]
  },
  {
   "cell_type": "markdown",
   "metadata": {},
   "source": [
    "### Nome: Beatriz Rianho Bernardino"
   ]
  },
  {
   "cell_type": "markdown",
   "metadata": {},
   "source": [
    "## Pergunta (s) a ser respondida"
   ]
  },
  {
   "cell_type": "markdown",
   "metadata": {},
   "source": [
    "<font size=\"3\">Após a criação da União Africana, os países membros tiveram um aumento de investimentos, e por isso a expectativa de vida aumentou ? </font>"
   ]
  },
  {
   "cell_type": "markdown",
   "metadata": {},
   "source": [
    "## Explicação da hipótese e mecanismo"
   ]
  },
  {
   "cell_type": "markdown",
   "metadata": {},
   "source": [
    "<font size=\"3\"> **Hipótese**: <p style='text-align: justify;'> \n",
    "    Os países membros provavelmente obtiveram uma melhora no índice de investimentos, e,consequentemente, maior acesso ao saneamento, aumentando a expectativa de vida.  </p> </font>\n",
    "\n",
    "<font size=\"3\">  <p style='text-align: justify;'> \n",
    "**Mecanismo**:  <p style='text-align: justify;'> \n",
    "        A União Africana tem como objetivo promover a democracia, direitos humanos e o desenvolvimento econômico. Com isso, foi criado um programa que incentiva o aumento dos investimentos de países extrangeiros  na África. Por isso, junto com as políticas de proteção dos direitos humanos, se realmente houve um aumento de investimentos, a economia  deve ter melhorado, e, consequentemente, o governo promoveu uma melhora no saneamento básico.  Como o saneamento básico ajuda a diminuir a proliferação de doenças, a expectativa de vida também deve ter aumentado. </p> </font>"
   ]
  },
  {
   "cell_type": "markdown",
   "metadata": {},
   "source": [
    "####  Referências: \n",
    "1. http://theconversation.com/lifestyle-diseases-could-scupper-africas-rising-life-expectancy-107220. <br> ( mostra que uma das causas para a expectativa de vida ter aumentado é devido a melhora no saneamento )\n",
    "\n",
    "\n",
    "2. https://www.impactatafrica.org/sites/default/files/publications/impact_investment_in_africa_action_plan_2016_english.pdf ( item 2 mostra dados de que desde 2002, ano em que a UA foi criada, o número de invvestimentos aumentos)\n"
   ]
  },
  {
   "cell_type": "markdown",
   "metadata": {},
   "source": [
    "## Bases de dados usadas"
   ]
  },
  {
   "cell_type": "markdown",
   "metadata": {},
   "source": [
    "<font size=\"2\"> <p style='text-align: justify;'> \n",
    "\n",
    "- Dados sobre os **INVESTIMENTOS**: <br>\n",
    "https://data.worldbank.org/indicator/NE.GDI.TOTL.ZSte \n",
    "\n",
    "<BR>\n",
    "\n",
    "- Dados sobre **SANEAMENTO**: <br>\n",
    "https://data.worldbank.org/indicator/SH.STA.SMSS.ZS\n",
    "\n",
    "<BR>\n",
    "    \n",
    "- Dados sobre **EXPECTATIVA DE VIDA**: <Br>\n",
    "https://www.gapminder.org/data/documentation/gd004/\n",
    "\n",
    "\n",
    "</font>"
   ]
  },
  {
   "cell_type": "markdown",
   "metadata": {},
   "source": [
    "## Análise de dados"
   ]
  },
  {
   "cell_type": "code",
   "execution_count": 1,
   "metadata": {},
   "outputs": [],
   "source": [
    "%matplotlib inline\n",
    "import pandas as pd\n",
    "import matplotlib.pyplot as plt\n",
    "import numpy as np\n",
    "import os\n",
    "import seaborn as sns"
   ]
  },
  {
   "cell_type": "markdown",
   "metadata": {},
   "source": [
    "<font size=\"3\"> <p style='text-align: justify;'> Primeiramente, vamos observar se realmente houve uma melhora nos investimentos devido à criação da UA, ou se foi apenas um aumento que ocorreu no mundo inteiro: </font>"
   ]
  },
  {
   "cell_type": "code",
   "execution_count": 61,
   "metadata": {
    "scrolled": true
   },
   "outputs": [],
   "source": [
    "data=pd.read_excel('investimentos.xlsx')"
   ]
  },
  {
   "cell_type": "code",
   "execution_count": 62,
   "metadata": {
    "scrolled": true
   },
   "outputs": [
    {
     "data": {
      "text/html": [
       "<div>\n",
       "<style scoped>\n",
       "    .dataframe tbody tr th:only-of-type {\n",
       "        vertical-align: middle;\n",
       "    }\n",
       "\n",
       "    .dataframe tbody tr th {\n",
       "        vertical-align: top;\n",
       "    }\n",
       "\n",
       "    .dataframe thead th {\n",
       "        text-align: right;\n",
       "    }\n",
       "</style>\n",
       "<table border=\"1\" class=\"dataframe\">\n",
       "  <thead>\n",
       "    <tr style=\"text-align: right;\">\n",
       "      <th></th>\n",
       "      <th>country</th>\n",
       "      <th>1960</th>\n",
       "      <th>1961</th>\n",
       "      <th>1962</th>\n",
       "      <th>1963</th>\n",
       "      <th>1964</th>\n",
       "      <th>1965</th>\n",
       "      <th>1966</th>\n",
       "      <th>1967</th>\n",
       "      <th>1968</th>\n",
       "      <th>...</th>\n",
       "      <th>2009</th>\n",
       "      <th>2010</th>\n",
       "      <th>2011</th>\n",
       "      <th>2012</th>\n",
       "      <th>2013</th>\n",
       "      <th>2014</th>\n",
       "      <th>2015</th>\n",
       "      <th>2016</th>\n",
       "      <th>2017</th>\n",
       "      <th>Membros</th>\n",
       "    </tr>\n",
       "  </thead>\n",
       "  <tbody>\n",
       "    <tr>\n",
       "      <th>0</th>\n",
       "      <td>Afghanistan</td>\n",
       "      <td>16.1</td>\n",
       "      <td>16.6</td>\n",
       "      <td>19.1</td>\n",
       "      <td>14.2</td>\n",
       "      <td>13.9</td>\n",
       "      <td>11.3</td>\n",
       "      <td>8.41</td>\n",
       "      <td>5.18</td>\n",
       "      <td>6.47</td>\n",
       "      <td>...</td>\n",
       "      <td>17.9</td>\n",
       "      <td>17.9</td>\n",
       "      <td>16.6</td>\n",
       "      <td>16.8</td>\n",
       "      <td>17.2</td>\n",
       "      <td>18.1</td>\n",
       "      <td>19.4</td>\n",
       "      <td>17.7</td>\n",
       "      <td>NaN</td>\n",
       "      <td>não</td>\n",
       "    </tr>\n",
       "    <tr>\n",
       "      <th>1</th>\n",
       "      <td>Albania</td>\n",
       "      <td>NaN</td>\n",
       "      <td>NaN</td>\n",
       "      <td>NaN</td>\n",
       "      <td>NaN</td>\n",
       "      <td>NaN</td>\n",
       "      <td>NaN</td>\n",
       "      <td>NaN</td>\n",
       "      <td>NaN</td>\n",
       "      <td>NaN</td>\n",
       "      <td>...</td>\n",
       "      <td>34.6</td>\n",
       "      <td>30.3</td>\n",
       "      <td>31.4</td>\n",
       "      <td>28.3</td>\n",
       "      <td>28.4</td>\n",
       "      <td>24.6</td>\n",
       "      <td>24.4</td>\n",
       "      <td>24.8</td>\n",
       "      <td>25.2</td>\n",
       "      <td>não</td>\n",
       "    </tr>\n",
       "    <tr>\n",
       "      <th>2</th>\n",
       "      <td>Algeria</td>\n",
       "      <td>42.2</td>\n",
       "      <td>47.2</td>\n",
       "      <td>35.4</td>\n",
       "      <td>28.9</td>\n",
       "      <td>21.8</td>\n",
       "      <td>22.6</td>\n",
       "      <td>17.30</td>\n",
       "      <td>23.40</td>\n",
       "      <td>27.90</td>\n",
       "      <td>...</td>\n",
       "      <td>46.9</td>\n",
       "      <td>41.4</td>\n",
       "      <td>38.1</td>\n",
       "      <td>39.2</td>\n",
       "      <td>43.4</td>\n",
       "      <td>45.6</td>\n",
       "      <td>50.7</td>\n",
       "      <td>50.7</td>\n",
       "      <td>47.8</td>\n",
       "      <td>sim</td>\n",
       "    </tr>\n",
       "  </tbody>\n",
       "</table>\n",
       "<p>3 rows × 60 columns</p>\n",
       "</div>"
      ],
      "text/plain": [
       "       country  1960  1961  1962  1963  1964  1965   1966   1967   1968  \\\n",
       "0  Afghanistan  16.1  16.6  19.1  14.2  13.9  11.3   8.41   5.18   6.47   \n",
       "1      Albania   NaN   NaN   NaN   NaN   NaN   NaN    NaN    NaN    NaN   \n",
       "2      Algeria  42.2  47.2  35.4  28.9  21.8  22.6  17.30  23.40  27.90   \n",
       "\n",
       "    ...     2009  2010  2011  2012  2013  2014  2015  2016  2017  Membros  \n",
       "0   ...     17.9  17.9  16.6  16.8  17.2  18.1  19.4  17.7   NaN      não  \n",
       "1   ...     34.6  30.3  31.4  28.3  28.4  24.6  24.4  24.8  25.2      não  \n",
       "2   ...     46.9  41.4  38.1  39.2  43.4  45.6  50.7  50.7  47.8      sim  \n",
       "\n",
       "[3 rows x 60 columns]"
      ]
     },
     "execution_count": 62,
     "metadata": {},
     "output_type": "execute_result"
    }
   ],
   "source": [
    "#criando uma coluna qualitativa sobre os membros:\n",
    "\n",
    "lista=[\"Algeria\", \"Angola\", \"Benin\", 'Botswana', 'Burkina Faso', 'Burundi', 'Cape Verde',  'Cameroon','Central African Republic','Chad', 'Comoros', 'Congo, Dem. Rep.', 'Djibouti', 'Egypt', 'Equatorial Guinea', 'Eritrea', 'Eswatini', 'Ethiopia', 'Gabon', 'Gambia',  'Ghana', 'Guinea', 'Guinea-Bissau', 'Ivory Coast', 'Kenya', 'Lesotho', 'Liberia', 'Lybia',  'Madagascar' , 'Malawi',]\n",
    "membros=[]\n",
    "for pais in data[\"country\"]:\n",
    "    if pais in lista:\n",
    "        membros.append(\"sim\")\n",
    "    else: \n",
    "        membros.append(\"não\")\n",
    "        \n",
    "data[\"Membros\"]=membros\n",
    "data.head(3)"
   ]
  },
  {
   "cell_type": "code",
   "execution_count": 63,
   "metadata": {},
   "outputs": [
    {
     "data": {
      "text/html": [
       "<div>\n",
       "<style scoped>\n",
       "    .dataframe tbody tr th:only-of-type {\n",
       "        vertical-align: middle;\n",
       "    }\n",
       "\n",
       "    .dataframe tbody tr th {\n",
       "        vertical-align: top;\n",
       "    }\n",
       "\n",
       "    .dataframe thead th {\n",
       "        text-align: right;\n",
       "    }\n",
       "</style>\n",
       "<table border=\"1\" class=\"dataframe\">\n",
       "  <thead>\n",
       "    <tr style=\"text-align: right;\">\n",
       "      <th></th>\n",
       "      <th>1992</th>\n",
       "      <th>1993</th>\n",
       "      <th>1994</th>\n",
       "      <th>1995</th>\n",
       "      <th>1996</th>\n",
       "      <th>1997</th>\n",
       "      <th>1998</th>\n",
       "      <th>1999</th>\n",
       "      <th>2000</th>\n",
       "      <th>2001</th>\n",
       "      <th>2002</th>\n",
       "      <th>2003</th>\n",
       "      <th>2004</th>\n",
       "      <th>2005</th>\n",
       "      <th>2006</th>\n",
       "      <th>2007</th>\n",
       "      <th>2008</th>\n",
       "      <th>2009</th>\n",
       "      <th>2010</th>\n",
       "      <th>2011</th>\n",
       "    </tr>\n",
       "    <tr>\n",
       "      <th>country</th>\n",
       "      <th></th>\n",
       "      <th></th>\n",
       "      <th></th>\n",
       "      <th></th>\n",
       "      <th></th>\n",
       "      <th></th>\n",
       "      <th></th>\n",
       "      <th></th>\n",
       "      <th></th>\n",
       "      <th></th>\n",
       "      <th></th>\n",
       "      <th></th>\n",
       "      <th></th>\n",
       "      <th></th>\n",
       "      <th></th>\n",
       "      <th></th>\n",
       "      <th></th>\n",
       "      <th></th>\n",
       "      <th></th>\n",
       "      <th></th>\n",
       "    </tr>\n",
       "  </thead>\n",
       "  <tbody>\n",
       "    <tr>\n",
       "      <th>Albania</th>\n",
       "      <td>5.2</td>\n",
       "      <td>13.2</td>\n",
       "      <td>17.9</td>\n",
       "      <td>21.0</td>\n",
       "      <td>21.2</td>\n",
       "      <td>20.5</td>\n",
       "      <td>21.0</td>\n",
       "      <td>23.0</td>\n",
       "      <td>31.7</td>\n",
       "      <td>38.4</td>\n",
       "      <td>37.9</td>\n",
       "      <td>40.5</td>\n",
       "      <td>37.2</td>\n",
       "      <td>37.0</td>\n",
       "      <td>39.0</td>\n",
       "      <td>38.7</td>\n",
       "      <td>35.8</td>\n",
       "      <td>34.6</td>\n",
       "      <td>30.3</td>\n",
       "      <td>31.4</td>\n",
       "    </tr>\n",
       "    <tr>\n",
       "      <th>Algeria</th>\n",
       "      <td>30.8</td>\n",
       "      <td>29.1</td>\n",
       "      <td>30.1</td>\n",
       "      <td>30.9</td>\n",
       "      <td>25.7</td>\n",
       "      <td>22.4</td>\n",
       "      <td>27.1</td>\n",
       "      <td>26.2</td>\n",
       "      <td>23.6</td>\n",
       "      <td>26.8</td>\n",
       "      <td>30.7</td>\n",
       "      <td>30.3</td>\n",
       "      <td>33.3</td>\n",
       "      <td>31.7</td>\n",
       "      <td>30.2</td>\n",
       "      <td>34.5</td>\n",
       "      <td>37.3</td>\n",
       "      <td>46.9</td>\n",
       "      <td>41.4</td>\n",
       "      <td>38.1</td>\n",
       "    </tr>\n",
       "    <tr>\n",
       "      <th>Argentina</th>\n",
       "      <td>16.7</td>\n",
       "      <td>19.1</td>\n",
       "      <td>19.9</td>\n",
       "      <td>17.9</td>\n",
       "      <td>18.1</td>\n",
       "      <td>19.4</td>\n",
       "      <td>19.9</td>\n",
       "      <td>18.0</td>\n",
       "      <td>16.2</td>\n",
       "      <td>14.2</td>\n",
       "      <td>12.0</td>\n",
       "      <td>15.1</td>\n",
       "      <td>17.6</td>\n",
       "      <td>18.9</td>\n",
       "      <td>18.7</td>\n",
       "      <td>20.1</td>\n",
       "      <td>19.6</td>\n",
       "      <td>16.1</td>\n",
       "      <td>17.7</td>\n",
       "      <td>18.4</td>\n",
       "    </tr>\n",
       "  </tbody>\n",
       "</table>\n",
       "</div>"
      ],
      "text/plain": [
       "           1992  1993  1994  1995  1996  1997  1998  1999  2000  2001  2002  \\\n",
       "country                                                                       \n",
       "Albania     5.2  13.2  17.9  21.0  21.2  20.5  21.0  23.0  31.7  38.4  37.9   \n",
       "Algeria    30.8  29.1  30.1  30.9  25.7  22.4  27.1  26.2  23.6  26.8  30.7   \n",
       "Argentina  16.7  19.1  19.9  17.9  18.1  19.4  19.9  18.0  16.2  14.2  12.0   \n",
       "\n",
       "           2003  2004  2005  2006  2007  2008  2009  2010  2011  \n",
       "country                                                          \n",
       "Albania    40.5  37.2  37.0  39.0  38.7  35.8  34.6  30.3  31.4  \n",
       "Algeria    30.3  33.3  31.7  30.2  34.5  37.3  46.9  41.4  38.1  \n",
       "Argentina  15.1  17.6  18.9  18.7  20.1  19.6  16.1  17.7  18.4  "
      ]
     },
     "execution_count": 63,
     "metadata": {},
     "output_type": "execute_result"
    }
   ],
   "source": [
    "# selecionando uma janela de dados que abrangem 10 anos antes e 10 anos depois do bloco econômico ser criado\n",
    "investimento=data.set_index(\"country\")\n",
    "anos=investimento.iloc[:,32:52]\n",
    "investimentos=anos.dropna() \n",
    "investimentos.head(3)"
   ]
  },
  {
   "cell_type": "code",
   "execution_count": 66,
   "metadata": {
    "scrolled": true
   },
   "outputs": [],
   "source": [
    "#filtrando a tabela para os países membros e não membros\n",
    "paises_ua=investimentos[(investimentos.index=='Algeria') |(investimentos.index=='Angola')|(investimentos.index=='Benin')|(investimentos.index=='Botswana')|(investimentos.index=='Burkina Faso')|(investimentos.index=='Burundi')|(investimentos.index=='Cape Verde')|(investimentos.index=='Cameroon')|(investimentos.index=='Central African Republic')|(investimentos.index=='Chad')|(investimentos.index=='Comoros')|(investimentos.index=='Congo, Dem. Rep.')|(investimentos.index=='Djibouti')|(investimentos.index=='Egypt')|(investimentos.index=='Equatorial Guinea')|(investimentos.index=='Eritrea')|(investimentos.index=='Eswatini')|(investimentos.index=='Ethiopia')|(investimentos.index=='Gabon') |(investimentos.index=='Gambia')|(investimentos.index=='Ghana')|(investimentos.index=='Guinea')|(investimentos.index=='Guinea-Bissau')|(investimentos.index=='Ivory Coast')|(investimentos.index=='Kenya')|(investimentos.index=='Lesotho')|(investimentos.index=='Liberia')|(investimentos.index=='Lybia') |(investimentos.index=='Madagascar') |(investimentos.index=='Malawi')|(investimentos.index=='Mali')|(investimentos.index=='Mauritania')|(investimentos.index=='Mauritius')|(investimentos.index=='Morocco')|(investimentos.index=='Mozambique')|(investimentos.index=='Namibia')|(investimentos.index=='Niger')|(investimentos.index=='Nigeria')|(investimentos.index=='Rwanda')|(investimentos.index=='Senegal') |(investimentos.index=='Seychelles') |(investimentos.index=='Congo, Rep')|(investimentos.index=='Sierra Leone')|(investimentos.index=='Somalia')|(investimentos.index=='South Africa')|(investimentos.index=='South Sudan')|(investimentos.index=='Tanzania')|(investimentos.index=='Togo')|(investimentos.index=='Tunisia') |(investimentos.index=='Uganda')|(investimentos.index=='Zambia') |(investimentos.index=='Zimbabwe')]\n",
    "paises_fora=investimentos[(investimentos.index=='Brazil') | (investimentos.index=='Mexico') |(investimentos.index=='Argentina') |(investimentos.index=='Venezuela') |(investimentos.index=='Colombia') |(investimentos.index=='Chile') |(investimentos.index=='Peru') |(investimentos.index=='Ecuador') |(investimentos.index=='Dominican Republic') |(investimentos.index=='Porto Rico') |(investimentos.index=='Guatemala') |(investimentos.index=='Costa Rica') |(investimentos.index=='Bolivia') |(investimentos.index=='Uruguai') |(investimentos.index=='El Salvador') |(investimentos.index=='Panama') |(investimentos.index=='Paraguai') |(investimentos.index=='Honduras') |(investimentos.index=='Nicaragua') |(investimentos.index=='Haiti') |(investimentos.index=='Jamaica') |(investimentos.index=='Guiana') |(investimentos.index=='Suriname') |(investimentos.index=='Equatorial Guinea') |(investimentos.index=='Portugal') |(investimentos.index=='Hungary') |(investimentos.index=='Philippines')|(investimentos.index=='Swaziland') |(investimentos.index=='Fiji') |(investimentos.index=='Indonesia') |(investimentos.index=='Malaysia') |(investimentos.index=='Romania')|(investimentos.index=='Thailand')|(investimentos.index=='Singapore')|(investimentos.index=='Belgium')|(investimentos.index=='Czech Republic')|(investimentos.index=='Barbados')|(investimentos.index=='Belize')|(investimentos.index=='Croatia')|(investimentos.index=='Hungria')|(investimentos.index=='Egypt')|(investimentos.index=='El Salvador')|(investimentos.index=='Finland')|(investimentos.index=='Jordan')|(investimentos.index=='Togo')|(investimentos.index=='New Zealand') ]"
   ]
  },
  {
   "cell_type": "code",
   "execution_count": 65,
   "metadata": {},
   "outputs": [],
   "source": [
    "colunas_antes = paises_ua.columns<2002\n",
    "colunas_depois = paises_ua.columns>=2002\n",
    "paises_fora=investimentos[(investimentos.index=='Brazil') | (investimentos.index=='Mexico') |(investimentos.index=='Argentina') |(investimentos.index=='Venezuela') |(investimentos.index=='Colombia') |(investimentos.index=='Chile') |(investimentos.index=='Peru') |(investimentos.index=='Ecuador') |(investimentos.index=='Dominican Republic') |(investimentos.index=='Porto Rico') |(investimentos.index=='Guatemala') |(investimentos.index=='Costa Rica') |(investimentos.index=='Bolivia') |(investimentos.index=='Uruguai') |(investimentos.index=='El Salvador') |(investimentos.index=='Panama') |(investimentos.index=='Paraguai') |(investimentos.index=='Honduras') |(investimentos.index=='Nicaragua') |(investimentos.index=='Haiti') |(investimentos.index=='Jamaica') |(investimentos.index=='Guiana') |(investimentos.index=='Suriname') |(investimentos.index=='Equatorial Guinea') |(investimentos.index=='Portugal') |(investimentos.index=='Hungary') |(investimentos.index=='Philippines')|(investimentos.index=='Swaziland') |(investimentos.index=='Fiji') |(investimentos.index=='Indonesia') |(investimentos.index=='Malaysia') |(investimentos.index=='Romania')|(investimentos.index=='Thailand')|(investimentos.index=='Singapore')|(investimentos.index=='Belgium')|(investimentos.index=='Czech Republic')|(investimentos.index=='Barbados')|(investimentos.index=='Belize')|(investimentos.index=='Croatia')|(investimentos.index=='Hungria')|(investimentos.index=='Egypt')|(investimentos.index=='El Salvador')|(investimentos.index=='Finland')|(investimentos.index=='Jordan')|(investimentos.index=='Togo')|(investimentos.index=='New Zealand') ]\n",
    "paises_fora.head(3)"
   ]
  },
  {
   "cell_type": "code",
   "execution_count": 106,
   "metadata": {
    "scrolled": true
   },
   "outputs": [
    {
     "data": {
      "image/png": "[encoded data removed]",
      "text/plain": [
       "<Figure size 432x288 with 1 Axes>"
      ]
     },
     "metadata": {
      "needs_background": "light"
     },
     "output_type": "display_data"
    }
   ],
   "source": [
    "#plotando um boxplot \n",
    "\n",
    "plt.figure()\n",
    "plt.boxplot([paises_ua.loc[:, colunas_antes].median().values, \n",
    "             paises_ua.loc[:, colunas_depois].median().values])\n",
    "plt.gca().set_xticklabels(['antes', 'depois'])\n",
    "plt.title('Investimentos antes e depois da UA')\n",
    "plt.ylabel('/%GDP')\n",
    "plt.grid(which='both')\n",
    "plt.show()\n",
    "\n"
   ]
  },
  {
   "cell_type": "markdown",
   "metadata": {},
   "source": [
    "<font size=\"3\">  <p style='text-align: justify;'> A partir do boxplot é possível perceber que realmente houve um aumento de investimentos após a criação da UA. É importante salientar que a mediana de investimentos foi o dado levado em consideração e não a média, devido a discrepância de investimentos nos países membros. \n",
    "Agora é necessário ver se o aumento, na verdade, não foi algo que ocorreu mundialmente: </font>"
   ]
  },
  {
   "cell_type": "code",
   "execution_count": 101,
   "metadata": {
    "scrolled": true
   },
   "outputs": [
    {
     "data": {
      "text/html": [
       "<div>\n",
       "<style scoped>\n",
       "    .dataframe tbody tr th:only-of-type {\n",
       "        vertical-align: middle;\n",
       "    }\n",
       "\n",
       "    .dataframe tbody tr th {\n",
       "        vertical-align: top;\n",
       "    }\n",
       "\n",
       "    .dataframe thead th {\n",
       "        text-align: right;\n",
       "    }\n",
       "</style>\n",
       "<table border=\"1\" class=\"dataframe\">\n",
       "  <thead>\n",
       "    <tr style=\"text-align: right;\">\n",
       "      <th></th>\n",
       "      <th>1992</th>\n",
       "      <th>1993</th>\n",
       "      <th>1994</th>\n",
       "      <th>1995</th>\n",
       "      <th>1996</th>\n",
       "      <th>1997</th>\n",
       "      <th>1998</th>\n",
       "      <th>1999</th>\n",
       "      <th>2000</th>\n",
       "      <th>2001</th>\n",
       "      <th>2002</th>\n",
       "      <th>2003</th>\n",
       "      <th>2004</th>\n",
       "      <th>2005</th>\n",
       "      <th>2006</th>\n",
       "      <th>2007</th>\n",
       "      <th>2008</th>\n",
       "      <th>2009</th>\n",
       "      <th>2010</th>\n",
       "      <th>2011</th>\n",
       "    </tr>\n",
       "    <tr>\n",
       "      <th>country</th>\n",
       "      <th></th>\n",
       "      <th></th>\n",
       "      <th></th>\n",
       "      <th></th>\n",
       "      <th></th>\n",
       "      <th></th>\n",
       "      <th></th>\n",
       "      <th></th>\n",
       "      <th></th>\n",
       "      <th></th>\n",
       "      <th></th>\n",
       "      <th></th>\n",
       "      <th></th>\n",
       "      <th></th>\n",
       "      <th></th>\n",
       "      <th></th>\n",
       "      <th></th>\n",
       "      <th></th>\n",
       "      <th></th>\n",
       "      <th></th>\n",
       "    </tr>\n",
       "  </thead>\n",
       "  <tbody>\n",
       "    <tr>\n",
       "      <th>Argentina</th>\n",
       "      <td>16.70</td>\n",
       "      <td>19.10</td>\n",
       "      <td>19.9</td>\n",
       "      <td>17.9</td>\n",
       "      <td>18.1</td>\n",
       "      <td>19.4</td>\n",
       "      <td>19.9</td>\n",
       "      <td>18.0</td>\n",
       "      <td>16.2</td>\n",
       "      <td>14.2</td>\n",
       "      <td>12.0</td>\n",
       "      <td>15.1</td>\n",
       "      <td>17.6</td>\n",
       "      <td>18.9</td>\n",
       "      <td>18.7</td>\n",
       "      <td>20.1</td>\n",
       "      <td>19.6</td>\n",
       "      <td>16.1</td>\n",
       "      <td>17.7</td>\n",
       "      <td>18.4</td>\n",
       "    </tr>\n",
       "    <tr>\n",
       "      <th>Barbados</th>\n",
       "      <td>7.05</td>\n",
       "      <td>9.67</td>\n",
       "      <td>11.1</td>\n",
       "      <td>11.9</td>\n",
       "      <td>11.9</td>\n",
       "      <td>15.1</td>\n",
       "      <td>18.5</td>\n",
       "      <td>19.1</td>\n",
       "      <td>17.7</td>\n",
       "      <td>15.3</td>\n",
       "      <td>17.1</td>\n",
       "      <td>17.9</td>\n",
       "      <td>18.9</td>\n",
       "      <td>18.5</td>\n",
       "      <td>21.1</td>\n",
       "      <td>19.6</td>\n",
       "      <td>19.1</td>\n",
       "      <td>17.1</td>\n",
       "      <td>16.0</td>\n",
       "      <td>17.0</td>\n",
       "    </tr>\n",
       "    <tr>\n",
       "      <th>Belgium</th>\n",
       "      <td>22.60</td>\n",
       "      <td>22.00</td>\n",
       "      <td>22.0</td>\n",
       "      <td>21.8</td>\n",
       "      <td>21.7</td>\n",
       "      <td>22.3</td>\n",
       "      <td>22.4</td>\n",
       "      <td>22.7</td>\n",
       "      <td>23.8</td>\n",
       "      <td>22.6</td>\n",
       "      <td>20.7</td>\n",
       "      <td>20.9</td>\n",
       "      <td>22.5</td>\n",
       "      <td>23.6</td>\n",
       "      <td>23.9</td>\n",
       "      <td>24.4</td>\n",
       "      <td>25.7</td>\n",
       "      <td>21.7</td>\n",
       "      <td>22.7</td>\n",
       "      <td>24.0</td>\n",
       "    </tr>\n",
       "  </tbody>\n",
       "</table>\n",
       "</div>"
      ],
      "text/plain": [
       "            1992   1993  1994  1995  1996  1997  1998  1999  2000  2001  2002  \\\n",
       "country                                                                         \n",
       "Argentina  16.70  19.10  19.9  17.9  18.1  19.4  19.9  18.0  16.2  14.2  12.0   \n",
       "Barbados    7.05   9.67  11.1  11.9  11.9  15.1  18.5  19.1  17.7  15.3  17.1   \n",
       "Belgium    22.60  22.00  22.0  21.8  21.7  22.3  22.4  22.7  23.8  22.6  20.7   \n",
       "\n",
       "           2003  2004  2005  2006  2007  2008  2009  2010  2011  \n",
       "country                                                          \n",
       "Argentina  15.1  17.6  18.9  18.7  20.1  19.6  16.1  17.7  18.4  \n",
       "Barbados   17.9  18.9  18.5  21.1  19.6  19.1  17.1  16.0  17.0  \n",
       "Belgium    20.9  22.5  23.6  23.9  24.4  25.7  21.7  22.7  24.0  "
      ]
     },
     "execution_count": 101,
     "metadata": {},
     "output_type": "execute_result"
    }
   ],
   "source": [
    "#selecionando países não membros\n",
    "paises_fora=investimentos[(investimentos.index=='Brazil') | (investimentos.index=='Mexico') |(investimentos.index=='Argentina') |(investimentos.index=='Venezuela') |(investimentos.index=='Colombia') |(investimentos.index=='Chile') |(investimentos.index=='Peru') |(investimentos.index=='Ecuador') |(investimentos.index=='Dominican Republic') |(investimentos.index=='Porto Rico') |(investimentos.index=='Guatemala') |(investimentos.index=='Costa Rica') |(investimentos.index=='Bolivia') |(investimentos.index=='Uruguai') |(investimentos.index=='El Salvador') |(investimentos.index=='Panama') |(investimentos.index=='Paraguai') |(investimentos.index=='Honduras') |(investimentos.index=='Nicaragua') |(investimentos.index=='Haiti') |(investimentos.index=='Jamaica') |(investimentos.index=='Guiana') |(investimentos.index=='Suriname') |(investimentos.index=='Equatorial Guinea') |(investimentos.index=='Portugal') |(investimentos.index=='Hungary') |(investimentos.index=='Philippines')|(investimentos.index=='Swaziland') |(investimentos.index=='Fiji') |(investimentos.index=='Indonesia') |(investimentos.index=='Malaysia') |(investimentos.index=='Romania')|(investimentos.index=='Thailand')|(investimentos.index=='Singapore')|(investimentos.index=='Belgium')|(investimentos.index=='Czech Republic')|(investimentos.index=='Barbados')|(investimentos.index=='Belize')|(investimentos.index=='Croatia')|(investimentos.index=='Hungria')|(investimentos.index=='Egypt')|(investimentos.index=='El Salvador')|(investimentos.index=='Finland')|(investimentos.index=='Jordan')|(investimentos.index=='Togo')|(investimentos.index=='New Zealand') ]\n",
    "paises_fora.head(3)"
   ]
  },
  {
   "cell_type": "markdown",
   "metadata": {},
   "source": [
    "**obs** : a grande maioria dos países selecionados são países sub-desenvolvidos ou em desenvolvimento, principalmente da América do Sul, por suas semelhanças ecônomicas com a África. "
   ]
  },
  {
   "cell_type": "code",
   "execution_count": 112,
   "metadata": {},
   "outputs": [
    {
     "data": {
      "image/png": "[encoded data removed]",
      "text/plain": [
       "<Figure size 432x288 with 1 Axes>"
      ]
     },
     "metadata": {
      "needs_background": "light"
     },
     "output_type": "display_data"
    }
   ],
   "source": [
    "colunas_antes1 = paises_fora.columns <2002\n",
    "colunas_depois1 = paises_fora.columns>=2002\n",
    "\n",
    "plt.figure()\n",
    "plt.boxplot([paises_fora.loc[:, colunas_antes1].median().values, \n",
    "             paises_fora.loc[:, colunas_depois1].median().values])\n",
    "plt.gca().set_xticklabels(['antes', 'depois'])\n",
    "plt.title('Investimentos antes e depois da UA em países não membros')\n",
    "plt.ylabel('%GDP')\n",
    "plt.grid(which='both')\n",
    "plt.show()"
   ]
  },
  {
   "cell_type": "markdown",
   "metadata": {},
   "source": [
    "<font size=\"3\"> Com esse boxplot, percebe-se que os países membros obtiveram um aumento  maior nos investimentos quando comparados com o grupo de controle. </font>"
   ]
  },
  {
   "cell_type": "markdown",
   "metadata": {},
   "source": [
    "<font size=\"3\"> Agora que a primeira parte da pergunta foi comprovada, é necessário observar as correlações entre os investimentos e as outras duas variáveis: </font>"
   ]
  },
  {
   "cell_type": "code",
   "execution_count": null,
   "metadata": {},
   "outputs": [],
   "source": []
  },
  {
   "cell_type": "markdown",
   "metadata": {},
   "source": [
    "## Conclusão"
   ]
  },
  {
   "cell_type": "markdown",
   "metadata": {},
   "source": [
    "Responda à pergunta, argumento da melhor forma possível com base nos dados"
   ]
  },
  {
   "cell_type": "code",
   "execution_count": null,
   "metadata": {},
   "outputs": [],
   "source": []
  }
 ],
 "metadata": {
  "kernelspec": {
   "display_name": "Python 3",
   "language": "python",
   "name": "python3"
  },
  "language_info": {
   "codemirror_mode": {
    "name": "ipython",
    "version": 3
   },
   "file_extension": ".py",
   "mimetype": "text/x-python",
   "name": "python",
   "nbconvert_exporter": "python",
   "pygments_lexer": "ipython3",
   "version": "3.7.1"
  }
 },
 "nbformat": 4,
 "nbformat_minor": 2
}
